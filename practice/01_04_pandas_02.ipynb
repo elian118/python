{
 "cells": [
  {
   "cell_type": "code",
   "execution_count": 2,
   "id": "b7f45738",
   "metadata": {},
   "outputs": [
    {
     "data": {
      "text/html": [
       "<style type=\"text/css\">\n",
       "</style>\n",
       "<table id=\"T_6a55a\">\n",
       "  <thead>\n",
       "    <tr>\n",
       "      <th class=\"blank level0\" >&nbsp;</th>\n",
       "      <th id=\"T_6a55a_level0_col0\" class=\"col_heading level0 col0\" >A</th>\n",
       "      <th id=\"T_6a55a_level0_col1\" class=\"col_heading level0 col1\" >B</th>\n",
       "      <th id=\"T_6a55a_level0_col2\" class=\"col_heading level0 col2\" >C</th>\n",
       "      <th id=\"T_6a55a_level0_col3\" class=\"col_heading level0 col3\" >D</th>\n",
       "    </tr>\n",
       "  </thead>\n",
       "  <tbody>\n",
       "    <tr>\n",
       "      <th id=\"T_6a55a_level0_row0\" class=\"row_heading level0 row0\" >0</th>\n",
       "      <td id=\"T_6a55a_row0_col0\" class=\"data row0 col0\" >1.000000</td>\n",
       "      <td id=\"T_6a55a_row0_col1\" class=\"data row0 col1\" >1.331587</td>\n",
       "      <td id=\"T_6a55a_row0_col2\" class=\"data row0 col2\" >0.715279</td>\n",
       "      <td id=\"T_6a55a_row0_col3\" class=\"data row0 col3\" >-1.545400</td>\n",
       "    </tr>\n",
       "    <tr>\n",
       "      <th id=\"T_6a55a_level0_row1\" class=\"row_heading level0 row1\" >1</th>\n",
       "      <td id=\"T_6a55a_row1_col0\" class=\"data row1 col0\" >2.333333</td>\n",
       "      <td id=\"T_6a55a_row1_col1\" class=\"data row1 col1\" >-0.008384</td>\n",
       "      <td id=\"T_6a55a_row1_col2\" class=\"data row1 col2\" >nan</td>\n",
       "      <td id=\"T_6a55a_row1_col3\" class=\"data row1 col3\" >-0.720086</td>\n",
       "    </tr>\n",
       "    <tr>\n",
       "      <th id=\"T_6a55a_level0_row2\" class=\"row_heading level0 row2\" >2</th>\n",
       "      <td id=\"T_6a55a_row2_col0\" class=\"data row2 col0\" >3.666667</td>\n",
       "      <td id=\"T_6a55a_row2_col1\" class=\"data row2 col1\" >0.265512</td>\n",
       "      <td id=\"T_6a55a_row2_col2\" class=\"data row2 col2\" >0.108549</td>\n",
       "      <td id=\"T_6a55a_row2_col3\" class=\"data row2 col3\" >0.004291</td>\n",
       "    </tr>\n",
       "    <tr>\n",
       "      <th id=\"T_6a55a_level0_row3\" class=\"row_heading level0 row3\" >3</th>\n",
       "      <td id=\"T_6a55a_row3_col0\" class=\"data row3 col0\" >5.000000</td>\n",
       "      <td id=\"T_6a55a_row3_col1\" class=\"data row3 col1\" >nan</td>\n",
       "      <td id=\"T_6a55a_row3_col2\" class=\"data row3 col2\" >nan</td>\n",
       "      <td id=\"T_6a55a_row3_col3\" class=\"data row3 col3\" >nan</td>\n",
       "    </tr>\n",
       "  </tbody>\n",
       "</table>\n"
      ],
      "text/plain": [
       "<pandas.io.formats.style.Styler at 0x248cde94980>"
      ]
     },
     "execution_count": 2,
     "metadata": {},
     "output_type": "execute_result"
    }
   ],
   "source": [
    "import numpy as np\n",
    "import pandas as pd\n",
    "\n",
    "np.random.seed(10)\n",
    "# 1부터 5까지 범위에서 균일 간격으로 나뉜 4개 숫자를 가진 NumPy 배열 생성\n",
    "df = pd.DataFrame({'A': np.linspace(1, 5, 4)}) \n",
    "# 표준 정규 분포(평균 0, 표준 편차 1)를 따르는 3x3 난수 행렬 생성\n",
    "# 생성된 난수 행렬에 **'B', 'C', 'D'**라는 열 이름을 붙여 새로운 데이터프레임 생성\n",
    "# 기존 df에 생성된 데이터프레임을 열 방향으로 결합\n",
    "df = pd.concat([df, pd.DataFrame(np.random.randn(3, 3), columns=list('BCD'))], axis = 1)\n",
    "df.iloc[1, 2] = np.nan # [1, 2] 위치를 nan으로 설정\n",
    "df.style # 보기좋게 스타일을 넣어 출력"
   ]
  },
  {
   "cell_type": "code",
   "execution_count": 3,
   "id": "8c01bfa2",
   "metadata": {},
   "outputs": [
    {
     "data": {
      "text/html": [
       "<style type=\"text/css\">\n",
       "#T_e2d85_row0_col0, #T_e2d85_row0_col1, #T_e2d85_row0_col2, #T_e2d85_row0_col3, #T_e2d85_row1_col0, #T_e2d85_row1_col1, #T_e2d85_row1_col2, #T_e2d85_row1_col3, #T_e2d85_row2_col0, #T_e2d85_row2_col1, #T_e2d85_row2_col2, #T_e2d85_row2_col3, #T_e2d85_row3_col0, #T_e2d85_row3_col1, #T_e2d85_row3_col2, #T_e2d85_row3_col3 {\n",
       "  background-color: black;\n",
       "  color: lawngreen;\n",
       "  border-color: black;\n",
       "}\n",
       "</style>\n",
       "<table id=\"T_e2d85\">\n",
       "  <thead>\n",
       "    <tr>\n",
       "      <th class=\"blank level0\" >&nbsp;</th>\n",
       "      <th id=\"T_e2d85_level0_col0\" class=\"col_heading level0 col0\" >A</th>\n",
       "      <th id=\"T_e2d85_level0_col1\" class=\"col_heading level0 col1\" >B</th>\n",
       "      <th id=\"T_e2d85_level0_col2\" class=\"col_heading level0 col2\" >C</th>\n",
       "      <th id=\"T_e2d85_level0_col3\" class=\"col_heading level0 col3\" >D</th>\n",
       "    </tr>\n",
       "  </thead>\n",
       "  <tbody>\n",
       "    <tr>\n",
       "      <th id=\"T_e2d85_level0_row0\" class=\"row_heading level0 row0\" >0</th>\n",
       "      <td id=\"T_e2d85_row0_col0\" class=\"data row0 col0\" >1.000000</td>\n",
       "      <td id=\"T_e2d85_row0_col1\" class=\"data row0 col1\" >1.331587</td>\n",
       "      <td id=\"T_e2d85_row0_col2\" class=\"data row0 col2\" >0.715279</td>\n",
       "      <td id=\"T_e2d85_row0_col3\" class=\"data row0 col3\" >-1.545400</td>\n",
       "    </tr>\n",
       "    <tr>\n",
       "      <th id=\"T_e2d85_level0_row1\" class=\"row_heading level0 row1\" >1</th>\n",
       "      <td id=\"T_e2d85_row1_col0\" class=\"data row1 col0\" >2.333333</td>\n",
       "      <td id=\"T_e2d85_row1_col1\" class=\"data row1 col1\" >-0.008384</td>\n",
       "      <td id=\"T_e2d85_row1_col2\" class=\"data row1 col2\" >nan</td>\n",
       "      <td id=\"T_e2d85_row1_col3\" class=\"data row1 col3\" >-0.720086</td>\n",
       "    </tr>\n",
       "    <tr>\n",
       "      <th id=\"T_e2d85_level0_row2\" class=\"row_heading level0 row2\" >2</th>\n",
       "      <td id=\"T_e2d85_row2_col0\" class=\"data row2 col0\" >3.666667</td>\n",
       "      <td id=\"T_e2d85_row2_col1\" class=\"data row2 col1\" >0.265512</td>\n",
       "      <td id=\"T_e2d85_row2_col2\" class=\"data row2 col2\" >0.108549</td>\n",
       "      <td id=\"T_e2d85_row2_col3\" class=\"data row2 col3\" >0.004291</td>\n",
       "    </tr>\n",
       "    <tr>\n",
       "      <th id=\"T_e2d85_level0_row3\" class=\"row_heading level0 row3\" >3</th>\n",
       "      <td id=\"T_e2d85_row3_col0\" class=\"data row3 col0\" >5.000000</td>\n",
       "      <td id=\"T_e2d85_row3_col1\" class=\"data row3 col1\" >nan</td>\n",
       "      <td id=\"T_e2d85_row3_col2\" class=\"data row3 col2\" >nan</td>\n",
       "      <td id=\"T_e2d85_row3_col3\" class=\"data row3 col3\" >nan</td>\n",
       "    </tr>\n",
       "  </tbody>\n",
       "</table>\n"
      ],
      "text/plain": [
       "<pandas.io.formats.style.Styler at 0x248cddd25d0>"
      ]
     },
     "execution_count": 3,
     "metadata": {},
     "output_type": "execute_result"
    }
   ],
   "source": [
    "df.style.set_properties(**{\n",
    "    'background-color': 'black', \n",
    "    'color': 'lawngreen', \n",
    "    'border-color': 'black'\n",
    "})"
   ]
  },
  {
   "cell_type": "code",
   "execution_count": 4,
   "id": "1de0979c",
   "metadata": {},
   "outputs": [
    {
     "data": {
      "text/plain": [
       "0    4\n",
       "1    7\n",
       "2   -5\n",
       "3    3\n",
       "dtype: int64"
      ]
     },
     "execution_count": 4,
     "metadata": {},
     "output_type": "execute_result"
    }
   ],
   "source": [
    "ysobject = pd.Series([4, 7, -5, 3])\n",
    "ysobject"
   ]
  },
  {
   "cell_type": "code",
   "execution_count": 5,
   "id": "0c34a7da",
   "metadata": {},
   "outputs": [
    {
     "name": "stdout",
     "output_type": "stream",
     "text": [
      "[ 4  7 -5  3]\n",
      "RangeIndex(start=0, stop=4, step=1)\n",
      "int64\n"
     ]
    }
   ],
   "source": [
    "print(ysobject.values)\n",
    "print(ysobject.index)\n",
    "print(ysobject.dtypes)"
   ]
  },
  {
   "cell_type": "code",
   "execution_count": 6,
   "id": "6d9a4ade",
   "metadata": {},
   "outputs": [
    {
     "data": {
      "text/plain": [
       "d    4\n",
       "b    7\n",
       "a   -5\n",
       "c    3\n",
       "dtype: int64"
      ]
     },
     "execution_count": 6,
     "metadata": {},
     "output_type": "execute_result"
    }
   ],
   "source": [
    "ysobject2 = pd.Series([4, 7, -5, 3], index = ['d', 'b', 'a', 'c']) # 인덱스 변경\n",
    "ysobject2"
   ]
  },
  {
   "cell_type": "code",
   "execution_count": 7,
   "id": "8a010b1c",
   "metadata": {},
   "outputs": [
    {
     "data": {
      "text/plain": [
       "lew     57000\n",
       "lee     32000\n",
       "Choi    49000\n",
       "dtype: int64"
      ]
     },
     "execution_count": 7,
     "metadata": {},
     "output_type": "execute_result"
    }
   ],
   "source": [
    "# 딕셔너리 자료형을 Series data로 사용 가능\n",
    "ysSeriesData = {'lew': 57000, 'lee': 32000, 'Choi': 49000}\n",
    "ysobject3 = pd.Series(ysSeriesData)\n",
    "ysobject3"
   ]
  },
  {
   "cell_type": "code",
   "execution_count": 8,
   "id": "f5a53507",
   "metadata": {},
   "outputs": [
    {
     "data": {
      "text/plain": [
       "first names\n",
       "lew     57000\n",
       "lee     32000\n",
       "Choi    49000\n",
       "Name: Salary, dtype: int64"
      ]
     },
     "execution_count": 8,
     "metadata": {},
     "output_type": "execute_result"
    }
   ],
   "source": [
    "ysobject3.name = 'Salary'\n",
    "ysobject3.index.name = 'first names' # 인덱스 항목 이름 지정\n",
    "ysobject3"
   ]
  },
  {
   "cell_type": "code",
   "execution_count": 9,
   "id": "1c5876e3",
   "metadata": {},
   "outputs": [
    {
     "data": {
      "text/html": [
       "<div>\n",
       "<style scoped>\n",
       "    .dataframe tbody tr th:only-of-type {\n",
       "        vertical-align: middle;\n",
       "    }\n",
       "\n",
       "    .dataframe tbody tr th {\n",
       "        vertical-align: top;\n",
       "    }\n",
       "\n",
       "    .dataframe thead th {\n",
       "        text-align: right;\n",
       "    }\n",
       "</style>\n",
       "<table border=\"1\" class=\"dataframe\">\n",
       "  <thead>\n",
       "    <tr style=\"text-align: right;\">\n",
       "      <th></th>\n",
       "      <th>name</th>\n",
       "      <th>year</th>\n",
       "      <th>trial</th>\n",
       "      <th>points</th>\n",
       "    </tr>\n",
       "  </thead>\n",
       "  <tbody>\n",
       "    <tr>\n",
       "      <th>0</th>\n",
       "      <td>lew</td>\n",
       "      <td>2012</td>\n",
       "      <td>6</td>\n",
       "      <td>3.6</td>\n",
       "    </tr>\n",
       "    <tr>\n",
       "      <th>1</th>\n",
       "      <td>lee</td>\n",
       "      <td>2015</td>\n",
       "      <td>2</td>\n",
       "      <td>4.4</td>\n",
       "    </tr>\n",
       "    <tr>\n",
       "      <th>2</th>\n",
       "      <td>Park</td>\n",
       "      <td>2018</td>\n",
       "      <td>7</td>\n",
       "      <td>3.9</td>\n",
       "    </tr>\n",
       "  </tbody>\n",
       "</table>\n",
       "</div>"
      ],
      "text/plain": [
       "   name  year  trial  points\n",
       "0   lew  2012      6     3.6\n",
       "1   lee  2015      2     4.4\n",
       "2  Park  2018      7     3.9"
      ]
     },
     "execution_count": 9,
     "metadata": {},
     "output_type": "execute_result"
    }
   ],
   "source": [
    "ysdata = {\n",
    "    'name': ['lew', 'lee', 'Park'], \n",
    "    'year': [2012, 2015, 2018],\n",
    "    'trial': [6, 2, 7],\n",
    "    'points': [3.6, 4.4, 3.9],\n",
    "}\n",
    "\n",
    "df = pd.DataFrame(ysdata)\n",
    "df"
   ]
  },
  {
   "cell_type": "code",
   "execution_count": 10,
   "id": "a3a644b3",
   "metadata": {},
   "outputs": [
    {
     "name": "stdout",
     "output_type": "stream",
     "text": [
      "RangeIndex(start=0, stop=3, step=1)\n",
      "Index(['name', 'year', 'trial', 'points'], dtype='object')\n",
      "[['lew' 2012 6 3.6]\n",
      " ['lee' 2015 2 4.4]\n",
      " ['Park' 2018 7 3.9]]\n"
     ]
    }
   ],
   "source": [
    "print(df.index)\n",
    "print(df.columns)\n",
    "print(df.values)"
   ]
  },
  {
   "cell_type": "code",
   "execution_count": 11,
   "id": "384c2ad6",
   "metadata": {},
   "outputs": [
    {
     "data": {
      "text/html": [
       "<div>\n",
       "<style scoped>\n",
       "    .dataframe tbody tr th:only-of-type {\n",
       "        vertical-align: middle;\n",
       "    }\n",
       "\n",
       "    .dataframe tbody tr th {\n",
       "        vertical-align: top;\n",
       "    }\n",
       "\n",
       "    .dataframe thead th {\n",
       "        text-align: right;\n",
       "    }\n",
       "</style>\n",
       "<table border=\"1\" class=\"dataframe\">\n",
       "  <thead>\n",
       "    <tr style=\"text-align: right;\">\n",
       "      <th>Info</th>\n",
       "      <th>name</th>\n",
       "      <th>year</th>\n",
       "      <th>trial</th>\n",
       "      <th>points</th>\n",
       "    </tr>\n",
       "    <tr>\n",
       "      <th>Num</th>\n",
       "      <th></th>\n",
       "      <th></th>\n",
       "      <th></th>\n",
       "      <th></th>\n",
       "    </tr>\n",
       "  </thead>\n",
       "  <tbody>\n",
       "    <tr>\n",
       "      <th>0</th>\n",
       "      <td>lew</td>\n",
       "      <td>2012</td>\n",
       "      <td>6</td>\n",
       "      <td>3.6</td>\n",
       "    </tr>\n",
       "    <tr>\n",
       "      <th>1</th>\n",
       "      <td>lee</td>\n",
       "      <td>2015</td>\n",
       "      <td>2</td>\n",
       "      <td>4.4</td>\n",
       "    </tr>\n",
       "    <tr>\n",
       "      <th>2</th>\n",
       "      <td>Park</td>\n",
       "      <td>2018</td>\n",
       "      <td>7</td>\n",
       "      <td>3.9</td>\n",
       "    </tr>\n",
       "  </tbody>\n",
       "</table>\n",
       "</div>"
      ],
      "text/plain": [
       "Info  name  year  trial  points\n",
       "Num                            \n",
       "0      lew  2012      6     3.6\n",
       "1      lee  2015      2     4.4\n",
       "2     Park  2018      7     3.9"
      ]
     },
     "execution_count": 11,
     "metadata": {},
     "output_type": "execute_result"
    }
   ],
   "source": [
    "df.index.name = 'Num'\n",
    "df.columns.name = 'Info'\n",
    "df"
   ]
  },
  {
   "cell_type": "code",
   "execution_count": 12,
   "id": "e849638a",
   "metadata": {},
   "outputs": [
    {
     "data": {
      "text/html": [
       "<div>\n",
       "<style scoped>\n",
       "    .dataframe tbody tr th:only-of-type {\n",
       "        vertical-align: middle;\n",
       "    }\n",
       "\n",
       "    .dataframe tbody tr th {\n",
       "        vertical-align: top;\n",
       "    }\n",
       "\n",
       "    .dataframe thead th {\n",
       "        text-align: right;\n",
       "    }\n",
       "</style>\n",
       "<table border=\"1\" class=\"dataframe\">\n",
       "  <thead>\n",
       "    <tr style=\"text-align: right;\">\n",
       "      <th></th>\n",
       "      <th>year</th>\n",
       "      <th>name</th>\n",
       "      <th>points</th>\n",
       "      <th>trial</th>\n",
       "    </tr>\n",
       "  </thead>\n",
       "  <tbody>\n",
       "    <tr>\n",
       "      <th>one</th>\n",
       "      <td>2012</td>\n",
       "      <td>lew</td>\n",
       "      <td>3.6</td>\n",
       "      <td>6</td>\n",
       "    </tr>\n",
       "    <tr>\n",
       "      <th>two</th>\n",
       "      <td>2015</td>\n",
       "      <td>lee</td>\n",
       "      <td>4.4</td>\n",
       "      <td>2</td>\n",
       "    </tr>\n",
       "    <tr>\n",
       "      <th>three</th>\n",
       "      <td>2018</td>\n",
       "      <td>Park</td>\n",
       "      <td>3.9</td>\n",
       "      <td>7</td>\n",
       "    </tr>\n",
       "  </tbody>\n",
       "</table>\n",
       "</div>"
      ],
      "text/plain": [
       "       year  name  points  trial\n",
       "one    2012   lew     3.6      6\n",
       "two    2015   lee     4.4      2\n",
       "three  2018  Park     3.9      7"
      ]
     },
     "execution_count": 12,
     "metadata": {},
     "output_type": "execute_result"
    }
   ],
   "source": [
    "df2 = pd.DataFrame(\n",
    "    ysdata, \n",
    "    columns=['year', 'name', 'points', 'trial'], \n",
    "    index=['one', 'two', 'three'])\n",
    "\n",
    "df2"
   ]
  },
  {
   "cell_type": "code",
   "execution_count": 13,
   "id": "87e0cc4e",
   "metadata": {},
   "outputs": [
    {
     "data": {
      "text/html": [
       "<div>\n",
       "<style scoped>\n",
       "    .dataframe tbody tr th:only-of-type {\n",
       "        vertical-align: middle;\n",
       "    }\n",
       "\n",
       "    .dataframe tbody tr th {\n",
       "        vertical-align: top;\n",
       "    }\n",
       "\n",
       "    .dataframe thead th {\n",
       "        text-align: right;\n",
       "    }\n",
       "</style>\n",
       "<table border=\"1\" class=\"dataframe\">\n",
       "  <thead>\n",
       "    <tr style=\"text-align: right;\">\n",
       "      <th></th>\n",
       "      <th>year</th>\n",
       "      <th>points</th>\n",
       "      <th>trial</th>\n",
       "    </tr>\n",
       "  </thead>\n",
       "  <tbody>\n",
       "    <tr>\n",
       "      <th>count</th>\n",
       "      <td>3.0</td>\n",
       "      <td>3.000000</td>\n",
       "      <td>3.000000</td>\n",
       "    </tr>\n",
       "    <tr>\n",
       "      <th>mean</th>\n",
       "      <td>2015.0</td>\n",
       "      <td>3.966667</td>\n",
       "      <td>5.000000</td>\n",
       "    </tr>\n",
       "    <tr>\n",
       "      <th>std</th>\n",
       "      <td>3.0</td>\n",
       "      <td>0.404145</td>\n",
       "      <td>2.645751</td>\n",
       "    </tr>\n",
       "    <tr>\n",
       "      <th>min</th>\n",
       "      <td>2012.0</td>\n",
       "      <td>3.600000</td>\n",
       "      <td>2.000000</td>\n",
       "    </tr>\n",
       "    <tr>\n",
       "      <th>25%</th>\n",
       "      <td>2013.5</td>\n",
       "      <td>3.750000</td>\n",
       "      <td>4.000000</td>\n",
       "    </tr>\n",
       "    <tr>\n",
       "      <th>50%</th>\n",
       "      <td>2015.0</td>\n",
       "      <td>3.900000</td>\n",
       "      <td>6.000000</td>\n",
       "    </tr>\n",
       "    <tr>\n",
       "      <th>75%</th>\n",
       "      <td>2016.5</td>\n",
       "      <td>4.150000</td>\n",
       "      <td>6.500000</td>\n",
       "    </tr>\n",
       "    <tr>\n",
       "      <th>max</th>\n",
       "      <td>2018.0</td>\n",
       "      <td>4.400000</td>\n",
       "      <td>7.000000</td>\n",
       "    </tr>\n",
       "  </tbody>\n",
       "</table>\n",
       "</div>"
      ],
      "text/plain": [
       "         year    points     trial\n",
       "count     3.0  3.000000  3.000000\n",
       "mean   2015.0  3.966667  5.000000\n",
       "std       3.0  0.404145  2.645751\n",
       "min    2012.0  3.600000  2.000000\n",
       "25%    2013.5  3.750000  4.000000\n",
       "50%    2015.0  3.900000  6.000000\n",
       "75%    2016.5  4.150000  6.500000\n",
       "max    2018.0  4.400000  7.000000"
      ]
     },
     "execution_count": 13,
     "metadata": {},
     "output_type": "execute_result"
    }
   ],
   "source": [
    "df2.describe()"
   ]
  },
  {
   "cell_type": "code",
   "execution_count": 14,
   "id": "cfd58529",
   "metadata": {},
   "outputs": [
    {
     "name": "stdout",
     "output_type": "stream",
     "text": [
      "Num\n",
      "0    2012\n",
      "1    2015\n",
      "2    2018\n",
      "Name: year, dtype: int64\n",
      "Num\n",
      "0    2012\n",
      "1    2015\n",
      "2    2018\n",
      "Name: year, dtype: int64\n"
     ]
    },
    {
     "data": {
      "text/html": [
       "<div>\n",
       "<style scoped>\n",
       "    .dataframe tbody tr th:only-of-type {\n",
       "        vertical-align: middle;\n",
       "    }\n",
       "\n",
       "    .dataframe tbody tr th {\n",
       "        vertical-align: top;\n",
       "    }\n",
       "\n",
       "    .dataframe thead th {\n",
       "        text-align: right;\n",
       "    }\n",
       "</style>\n",
       "<table border=\"1\" class=\"dataframe\">\n",
       "  <thead>\n",
       "    <tr style=\"text-align: right;\">\n",
       "      <th>Info</th>\n",
       "      <th>year</th>\n",
       "      <th>points</th>\n",
       "    </tr>\n",
       "    <tr>\n",
       "      <th>Num</th>\n",
       "      <th></th>\n",
       "      <th></th>\n",
       "    </tr>\n",
       "  </thead>\n",
       "  <tbody>\n",
       "    <tr>\n",
       "      <th>0</th>\n",
       "      <td>2012</td>\n",
       "      <td>3.6</td>\n",
       "    </tr>\n",
       "    <tr>\n",
       "      <th>1</th>\n",
       "      <td>2015</td>\n",
       "      <td>4.4</td>\n",
       "    </tr>\n",
       "    <tr>\n",
       "      <th>2</th>\n",
       "      <td>2018</td>\n",
       "      <td>3.9</td>\n",
       "    </tr>\n",
       "  </tbody>\n",
       "</table>\n",
       "</div>"
      ],
      "text/plain": [
       "Info  year  points\n",
       "Num               \n",
       "0     2012     3.6\n",
       "1     2015     4.4\n",
       "2     2018     3.9"
      ]
     },
     "execution_count": 14,
     "metadata": {},
     "output_type": "execute_result"
    }
   ],
   "source": [
    "dftest = df\n",
    "print(dftest['year'])\n",
    "print(dftest.year)\n",
    "dftest[['year', 'points']]"
   ]
  },
  {
   "cell_type": "code",
   "execution_count": 15,
   "id": "80f31690",
   "metadata": {},
   "outputs": [
    {
     "data": {
      "text/html": [
       "<div>\n",
       "<style scoped>\n",
       "    .dataframe tbody tr th:only-of-type {\n",
       "        vertical-align: middle;\n",
       "    }\n",
       "\n",
       "    .dataframe tbody tr th {\n",
       "        vertical-align: top;\n",
       "    }\n",
       "\n",
       "    .dataframe thead th {\n",
       "        text-align: right;\n",
       "    }\n",
       "</style>\n",
       "<table border=\"1\" class=\"dataframe\">\n",
       "  <thead>\n",
       "    <tr style=\"text-align: right;\">\n",
       "      <th>Info</th>\n",
       "      <th>name</th>\n",
       "      <th>year</th>\n",
       "      <th>trial</th>\n",
       "      <th>points</th>\n",
       "    </tr>\n",
       "    <tr>\n",
       "      <th>Num</th>\n",
       "      <th></th>\n",
       "      <th></th>\n",
       "      <th></th>\n",
       "      <th></th>\n",
       "    </tr>\n",
       "  </thead>\n",
       "  <tbody>\n",
       "    <tr>\n",
       "      <th>0</th>\n",
       "      <td>lew</td>\n",
       "      <td>2012</td>\n",
       "      <td>6</td>\n",
       "      <td>0.5</td>\n",
       "    </tr>\n",
       "    <tr>\n",
       "      <th>1</th>\n",
       "      <td>lee</td>\n",
       "      <td>2015</td>\n",
       "      <td>2</td>\n",
       "      <td>0.5</td>\n",
       "    </tr>\n",
       "    <tr>\n",
       "      <th>2</th>\n",
       "      <td>Park</td>\n",
       "      <td>2018</td>\n",
       "      <td>7</td>\n",
       "      <td>0.5</td>\n",
       "    </tr>\n",
       "  </tbody>\n",
       "</table>\n",
       "</div>"
      ],
      "text/plain": [
       "Info  name  year  trial  points\n",
       "Num                            \n",
       "0      lew  2012      6     0.5\n",
       "1      lee  2015      2     0.5\n",
       "2     Park  2018      7     0.5"
      ]
     },
     "execution_count": 15,
     "metadata": {},
     "output_type": "execute_result"
    }
   ],
   "source": [
    "dftest['points'] = 0.5\n",
    "dftest"
   ]
  },
  {
   "cell_type": "code",
   "execution_count": 16,
   "id": "43ec1012",
   "metadata": {},
   "outputs": [
    {
     "data": {
      "text/html": [
       "<div>\n",
       "<style scoped>\n",
       "    .dataframe tbody tr th:only-of-type {\n",
       "        vertical-align: middle;\n",
       "    }\n",
       "\n",
       "    .dataframe tbody tr th {\n",
       "        vertical-align: top;\n",
       "    }\n",
       "\n",
       "    .dataframe thead th {\n",
       "        text-align: right;\n",
       "    }\n",
       "</style>\n",
       "<table border=\"1\" class=\"dataframe\">\n",
       "  <thead>\n",
       "    <tr style=\"text-align: right;\">\n",
       "      <th>Info</th>\n",
       "      <th>name</th>\n",
       "      <th>year</th>\n",
       "      <th>trial</th>\n",
       "      <th>points</th>\n",
       "    </tr>\n",
       "    <tr>\n",
       "      <th>Num</th>\n",
       "      <th></th>\n",
       "      <th></th>\n",
       "      <th></th>\n",
       "      <th></th>\n",
       "    </tr>\n",
       "  </thead>\n",
       "  <tbody>\n",
       "    <tr>\n",
       "      <th>0</th>\n",
       "      <td>lew</td>\n",
       "      <td>2012</td>\n",
       "      <td>900</td>\n",
       "      <td>0.5</td>\n",
       "    </tr>\n",
       "    <tr>\n",
       "      <th>1</th>\n",
       "      <td>lee</td>\n",
       "      <td>2015</td>\n",
       "      <td>700</td>\n",
       "      <td>0.5</td>\n",
       "    </tr>\n",
       "    <tr>\n",
       "      <th>2</th>\n",
       "      <td>Park</td>\n",
       "      <td>2018</td>\n",
       "      <td>400</td>\n",
       "      <td>0.5</td>\n",
       "    </tr>\n",
       "  </tbody>\n",
       "</table>\n",
       "</div>"
      ],
      "text/plain": [
       "Info  name  year  trial  points\n",
       "Num                            \n",
       "0      lew  2012    900     0.5\n",
       "1      lee  2015    700     0.5\n",
       "2     Park  2018    400     0.5"
      ]
     },
     "execution_count": 16,
     "metadata": {},
     "output_type": "execute_result"
    }
   ],
   "source": [
    "dftest['trial'] = [900, 700, 400]\n",
    "dftest"
   ]
  },
  {
   "cell_type": "code",
   "execution_count": 17,
   "id": "10224f94",
   "metadata": {},
   "outputs": [
    {
     "data": {
      "text/html": [
       "<div>\n",
       "<style scoped>\n",
       "    .dataframe tbody tr th:only-of-type {\n",
       "        vertical-align: middle;\n",
       "    }\n",
       "\n",
       "    .dataframe tbody tr th {\n",
       "        vertical-align: top;\n",
       "    }\n",
       "\n",
       "    .dataframe thead th {\n",
       "        text-align: right;\n",
       "    }\n",
       "</style>\n",
       "<table border=\"1\" class=\"dataframe\">\n",
       "  <thead>\n",
       "    <tr style=\"text-align: right;\">\n",
       "      <th>Info</th>\n",
       "      <th>name</th>\n",
       "      <th>year</th>\n",
       "      <th>trial</th>\n",
       "      <th>points</th>\n",
       "      <th>zeros</th>\n",
       "    </tr>\n",
       "    <tr>\n",
       "      <th>Num</th>\n",
       "      <th></th>\n",
       "      <th></th>\n",
       "      <th></th>\n",
       "      <th></th>\n",
       "      <th></th>\n",
       "    </tr>\n",
       "  </thead>\n",
       "  <tbody>\n",
       "    <tr>\n",
       "      <th>0</th>\n",
       "      <td>lew</td>\n",
       "      <td>2012</td>\n",
       "      <td>900</td>\n",
       "      <td>0.5</td>\n",
       "      <td>0</td>\n",
       "    </tr>\n",
       "    <tr>\n",
       "      <th>1</th>\n",
       "      <td>lee</td>\n",
       "      <td>2015</td>\n",
       "      <td>700</td>\n",
       "      <td>0.5</td>\n",
       "      <td>1</td>\n",
       "    </tr>\n",
       "    <tr>\n",
       "      <th>2</th>\n",
       "      <td>Park</td>\n",
       "      <td>2018</td>\n",
       "      <td>400</td>\n",
       "      <td>0.5</td>\n",
       "      <td>2</td>\n",
       "    </tr>\n",
       "  </tbody>\n",
       "</table>\n",
       "</div>"
      ],
      "text/plain": [
       "Info  name  year  trial  points  zeros\n",
       "Num                                   \n",
       "0      lew  2012    900     0.5      0\n",
       "1      lee  2015    700     0.5      1\n",
       "2     Park  2018    400     0.5      2"
      ]
     },
     "execution_count": 17,
     "metadata": {},
     "output_type": "execute_result"
    }
   ],
   "source": [
    "dftest['zeros'] = np.arange(3) # 새 열 추가\n",
    "dftest"
   ]
  },
  {
   "cell_type": "code",
   "execution_count": 18,
   "id": "ffb6ab1f",
   "metadata": {},
   "outputs": [
    {
     "data": {
      "text/html": [
       "<div>\n",
       "<style scoped>\n",
       "    .dataframe tbody tr th:only-of-type {\n",
       "        vertical-align: middle;\n",
       "    }\n",
       "\n",
       "    .dataframe tbody tr th {\n",
       "        vertical-align: top;\n",
       "    }\n",
       "\n",
       "    .dataframe thead th {\n",
       "        text-align: right;\n",
       "    }\n",
       "</style>\n",
       "<table border=\"1\" class=\"dataframe\">\n",
       "  <thead>\n",
       "    <tr style=\"text-align: right;\">\n",
       "      <th>Info</th>\n",
       "      <th>name</th>\n",
       "      <th>year</th>\n",
       "      <th>trial</th>\n",
       "      <th>points</th>\n",
       "      <th>zeros</th>\n",
       "      <th>debt</th>\n",
       "    </tr>\n",
       "    <tr>\n",
       "      <th>Num</th>\n",
       "      <th></th>\n",
       "      <th></th>\n",
       "      <th></th>\n",
       "      <th></th>\n",
       "      <th></th>\n",
       "      <th></th>\n",
       "    </tr>\n",
       "  </thead>\n",
       "  <tbody>\n",
       "    <tr>\n",
       "      <th>0</th>\n",
       "      <td>lew</td>\n",
       "      <td>2012</td>\n",
       "      <td>900</td>\n",
       "      <td>0.5</td>\n",
       "      <td>0</td>\n",
       "      <td>1300</td>\n",
       "    </tr>\n",
       "    <tr>\n",
       "      <th>1</th>\n",
       "      <td>lee</td>\n",
       "      <td>2015</td>\n",
       "      <td>700</td>\n",
       "      <td>0.5</td>\n",
       "      <td>1</td>\n",
       "      <td>900</td>\n",
       "    </tr>\n",
       "    <tr>\n",
       "      <th>2</th>\n",
       "      <td>Park</td>\n",
       "      <td>2018</td>\n",
       "      <td>400</td>\n",
       "      <td>0.5</td>\n",
       "      <td>2</td>\n",
       "      <td>200</td>\n",
       "    </tr>\n",
       "  </tbody>\n",
       "</table>\n",
       "</div>"
      ],
      "text/plain": [
       "Info  name  year  trial  points  zeros  debt\n",
       "Num                                         \n",
       "0      lew  2012    900     0.5      0  1300\n",
       "1      lee  2015    700     0.5      1   900\n",
       "2     Park  2018    400     0.5      2   200"
      ]
     },
     "execution_count": 18,
     "metadata": {},
     "output_type": "execute_result"
    }
   ],
   "source": [
    "val = pd.Series([200, 1300, 900], index=[2, 0, 1])\n",
    "dftest['debt'] = val # 새 Series 추가\n",
    "dftest"
   ]
  },
  {
   "cell_type": "code",
   "execution_count": 19,
   "id": "fc3a114c",
   "metadata": {},
   "outputs": [
    {
     "data": {
      "text/html": [
       "<div>\n",
       "<style scoped>\n",
       "    .dataframe tbody tr th:only-of-type {\n",
       "        vertical-align: middle;\n",
       "    }\n",
       "\n",
       "    .dataframe tbody tr th {\n",
       "        vertical-align: top;\n",
       "    }\n",
       "\n",
       "    .dataframe thead th {\n",
       "        text-align: right;\n",
       "    }\n",
       "</style>\n",
       "<table border=\"1\" class=\"dataframe\">\n",
       "  <thead>\n",
       "    <tr style=\"text-align: right;\">\n",
       "      <th>Info</th>\n",
       "      <th>name</th>\n",
       "      <th>year</th>\n",
       "      <th>trial</th>\n",
       "      <th>points</th>\n",
       "      <th>zeros</th>\n",
       "      <th>debt</th>\n",
       "      <th>H_points</th>\n",
       "      <th>L_points</th>\n",
       "    </tr>\n",
       "    <tr>\n",
       "      <th>Num</th>\n",
       "      <th></th>\n",
       "      <th></th>\n",
       "      <th></th>\n",
       "      <th></th>\n",
       "      <th></th>\n",
       "      <th></th>\n",
       "      <th></th>\n",
       "      <th></th>\n",
       "    </tr>\n",
       "  </thead>\n",
       "  <tbody>\n",
       "    <tr>\n",
       "      <th>0</th>\n",
       "      <td>lew</td>\n",
       "      <td>2012</td>\n",
       "      <td>900</td>\n",
       "      <td>0.5</td>\n",
       "      <td>0</td>\n",
       "      <td>1300</td>\n",
       "      <td>-899.5</td>\n",
       "      <td>True</td>\n",
       "    </tr>\n",
       "    <tr>\n",
       "      <th>1</th>\n",
       "      <td>lee</td>\n",
       "      <td>2015</td>\n",
       "      <td>700</td>\n",
       "      <td>0.5</td>\n",
       "      <td>1</td>\n",
       "      <td>900</td>\n",
       "      <td>-699.5</td>\n",
       "      <td>True</td>\n",
       "    </tr>\n",
       "    <tr>\n",
       "      <th>2</th>\n",
       "      <td>Park</td>\n",
       "      <td>2018</td>\n",
       "      <td>400</td>\n",
       "      <td>0.5</td>\n",
       "      <td>2</td>\n",
       "      <td>200</td>\n",
       "      <td>-399.5</td>\n",
       "      <td>False</td>\n",
       "    </tr>\n",
       "  </tbody>\n",
       "</table>\n",
       "</div>"
      ],
      "text/plain": [
       "Info  name  year  trial  points  zeros  debt  H_points  L_points\n",
       "Num                                                             \n",
       "0      lew  2012    900     0.5      0  1300    -899.5      True\n",
       "1      lee  2015    700     0.5      1   900    -699.5      True\n",
       "2     Park  2018    400     0.5      2   200    -399.5     False"
      ]
     },
     "execution_count": 19,
     "metadata": {},
     "output_type": "execute_result"
    }
   ],
   "source": [
    "dftest['H_points'] = dftest['points'] - dftest['trial']\n",
    "dftest['L_points'] = dftest['H_points'] < -500\n",
    "dftest"
   ]
  },
  {
   "cell_type": "code",
   "execution_count": 20,
   "id": "8c65cf9c",
   "metadata": {},
   "outputs": [
    {
     "data": {
      "text/html": [
       "<div>\n",
       "<style scoped>\n",
       "    .dataframe tbody tr th:only-of-type {\n",
       "        vertical-align: middle;\n",
       "    }\n",
       "\n",
       "    .dataframe tbody tr th {\n",
       "        vertical-align: top;\n",
       "    }\n",
       "\n",
       "    .dataframe thead th {\n",
       "        text-align: right;\n",
       "    }\n",
       "</style>\n",
       "<table border=\"1\" class=\"dataframe\">\n",
       "  <thead>\n",
       "    <tr style=\"text-align: right;\">\n",
       "      <th>Info</th>\n",
       "      <th>name</th>\n",
       "      <th>year</th>\n",
       "      <th>trial</th>\n",
       "      <th>points</th>\n",
       "      <th>zeros</th>\n",
       "      <th>debt</th>\n",
       "    </tr>\n",
       "    <tr>\n",
       "      <th>Num</th>\n",
       "      <th></th>\n",
       "      <th></th>\n",
       "      <th></th>\n",
       "      <th></th>\n",
       "      <th></th>\n",
       "      <th></th>\n",
       "    </tr>\n",
       "  </thead>\n",
       "  <tbody>\n",
       "    <tr>\n",
       "      <th>0</th>\n",
       "      <td>lew</td>\n",
       "      <td>2012</td>\n",
       "      <td>900</td>\n",
       "      <td>0.5</td>\n",
       "      <td>0</td>\n",
       "      <td>1300</td>\n",
       "    </tr>\n",
       "    <tr>\n",
       "      <th>1</th>\n",
       "      <td>lee</td>\n",
       "      <td>2015</td>\n",
       "      <td>700</td>\n",
       "      <td>0.5</td>\n",
       "      <td>1</td>\n",
       "      <td>900</td>\n",
       "    </tr>\n",
       "    <tr>\n",
       "      <th>2</th>\n",
       "      <td>Park</td>\n",
       "      <td>2018</td>\n",
       "      <td>400</td>\n",
       "      <td>0.5</td>\n",
       "      <td>2</td>\n",
       "      <td>200</td>\n",
       "    </tr>\n",
       "  </tbody>\n",
       "</table>\n",
       "</div>"
      ],
      "text/plain": [
       "Info  name  year  trial  points  zeros  debt\n",
       "Num                                         \n",
       "0      lew  2012    900     0.5      0  1300\n",
       "1      lee  2015    700     0.5      1   900\n",
       "2     Park  2018    400     0.5      2   200"
      ]
     },
     "execution_count": 20,
     "metadata": {},
     "output_type": "execute_result"
    }
   ],
   "source": [
    "del dftest['H_points']\n",
    "del dftest['L_points']\n",
    "dftest"
   ]
  },
  {
   "cell_type": "code",
   "execution_count": 21,
   "id": "7a8d4dea",
   "metadata": {},
   "outputs": [
    {
     "data": {
      "text/html": [
       "<div>\n",
       "<style scoped>\n",
       "    .dataframe tbody tr th:only-of-type {\n",
       "        vertical-align: middle;\n",
       "    }\n",
       "\n",
       "    .dataframe tbody tr th {\n",
       "        vertical-align: top;\n",
       "    }\n",
       "\n",
       "    .dataframe thead th {\n",
       "        text-align: right;\n",
       "    }\n",
       "</style>\n",
       "<table border=\"1\" class=\"dataframe\">\n",
       "  <thead>\n",
       "    <tr style=\"text-align: right;\">\n",
       "      <th>Info</th>\n",
       "      <th>name</th>\n",
       "      <th>year</th>\n",
       "      <th>trial</th>\n",
       "      <th>points</th>\n",
       "      <th>zeros</th>\n",
       "      <th>debt</th>\n",
       "    </tr>\n",
       "    <tr>\n",
       "      <th>Num</th>\n",
       "      <th></th>\n",
       "      <th></th>\n",
       "      <th></th>\n",
       "      <th></th>\n",
       "      <th></th>\n",
       "      <th></th>\n",
       "    </tr>\n",
       "  </thead>\n",
       "  <tbody>\n",
       "    <tr>\n",
       "      <th>1</th>\n",
       "      <td>lee</td>\n",
       "      <td>2015</td>\n",
       "      <td>700</td>\n",
       "      <td>0.5</td>\n",
       "      <td>1</td>\n",
       "      <td>900</td>\n",
       "    </tr>\n",
       "  </tbody>\n",
       "</table>\n",
       "</div>"
      ],
      "text/plain": [
       "Info name  year  trial  points  zeros  debt\n",
       "Num                                        \n",
       "1     lee  2015    700     0.5      1   900"
      ]
     },
     "execution_count": 21,
     "metadata": {},
     "output_type": "execute_result"
    }
   ],
   "source": [
    "dftest[1:2]"
   ]
  },
  {
   "cell_type": "code",
   "execution_count": 22,
   "id": "7c5832a3",
   "metadata": {},
   "outputs": [
    {
     "data": {
      "text/plain": [
       "Info\n",
       "name       lee\n",
       "year      2015\n",
       "trial      700\n",
       "points     0.5\n",
       "zeros        1\n",
       "debt       900\n",
       "Name: 1, dtype: object"
      ]
     },
     "execution_count": 22,
     "metadata": {},
     "output_type": "execute_result"
    }
   ],
   "source": [
    "dftest.loc[1] # 1행 정보 가져오기"
   ]
  },
  {
   "cell_type": "code",
   "execution_count": 23,
   "id": "93928305",
   "metadata": {},
   "outputs": [
    {
     "name": "stdout",
     "output_type": "stream",
     "text": [
      "Info  name    year  trial  points  zeros    debt\n",
      "Num                                             \n",
      "0      lew  2012.0  900.0     0.5    0.0  1300.0\n",
      "1      lee  2015.0  700.0     0.5    1.0   900.0\n",
      "2     Park  2018.0  400.0     0.5    2.0   200.0\n",
      "7      Jun     4.0    0.1  2013.0    2.3   100.0\n",
      "Info  name    year  trial  points  zeros   debt\n",
      "Num                                            \n",
      "2     Park  2018.0  400.0     0.5    2.0  200.0\n",
      "7      Jun     4.0    0.1  2013.0    2.3  100.0\n",
      "Num\n",
      "1    700.0\n",
      "2    400.0\n",
      "Name: trial, dtype: float64\n",
      "Num\n",
      "0    2012.0\n",
      "1    2015.0\n",
      "2    2018.0\n",
      "7       4.0\n",
      "Name: year, dtype: float64\n"
     ]
    }
   ],
   "source": [
    "dftest.loc[7,:] = ['Jun', 4.0, 0.1, 2013, 2.3, 100]\n",
    "print(dftest)\n",
    "print(dftest.loc[2:7])\n",
    "print(dftest.loc[1:2, 'trial'])\n",
    "print(dftest.loc[:, 'year'])"
   ]
  },
  {
   "cell_type": "code",
   "execution_count": 24,
   "id": "6d7c99a1",
   "metadata": {},
   "outputs": [
    {
     "data": {
      "text/plain": [
       "Info\n",
       "name         Jun\n",
       "year         4.0\n",
       "trial        0.1\n",
       "points    2013.0\n",
       "zeros        2.3\n",
       "debt       100.0\n",
       "Name: 7, dtype: object"
      ]
     },
     "execution_count": 24,
     "metadata": {},
     "output_type": "execute_result"
    }
   ],
   "source": [
    "dftest.iloc[3]"
   ]
  },
  {
   "cell_type": "code",
   "execution_count": 25,
   "id": "fcd282e3",
   "metadata": {},
   "outputs": [
    {
     "name": "stdout",
     "output_type": "stream",
     "text": [
      "Info  name    year  trial  points  zeros    debt\n",
      "Num                                             \n",
      "0      lew  2012.0  900.0     0.5    0.0  1300.0\n",
      "1      lee  2015.0  700.0     0.5    1.0   900.0\n",
      "2     Park  2018.0  400.0     0.5    2.0   200.0\n",
      "7      Jun     4.0    0.1  2013.0    2.3   100.0\n",
      "\n",
      "2015.0\n",
      "\n",
      "Info name  year\n",
      "Num            \n",
      "7     Jun   4.0\n",
      "\n",
      "Info  points  zeros   debt\n",
      "Num                       \n",
      "7     2013.0    2.3  100.0\n"
     ]
    }
   ],
   "source": [
    "print(dftest)\n",
    "print()\n",
    "print(dftest.iloc[1, 1])\n",
    "print()\n",
    "print(dftest.iloc[3:5, 0:2])\n",
    "print()\n",
    "print(dftest.iloc[3:5, 3:6])"
   ]
  },
  {
   "cell_type": "code",
   "execution_count": 26,
   "id": "369c7f0b",
   "metadata": {},
   "outputs": [
    {
     "name": "stdout",
     "output_type": "stream",
     "text": [
      "Info  name    year  trial  points  zeros    debt\n",
      "Num                                             \n",
      "0      lew  2012.0  900.0     0.5    0.0  1300.0\n",
      "1      lee  2015.0  700.0     0.5    1.0   900.0\n",
      "2     Park  2018.0  400.0     0.5    2.0   200.0\n",
      "7      Jun     4.0    0.1  2013.0    2.3   100.0\n",
      "\n",
      "Num\n",
      "0    False\n",
      "1     True\n",
      "2     True\n",
      "7    False\n",
      "Name: year, dtype: bool\n",
      "\n",
      "Info  name    year  trial  points  zeros   debt\n",
      "Num                                            \n",
      "1      lee  2015.0  700.0     0.5    1.0  900.0\n",
      "2     Park  2018.0  400.0     0.5    2.0  200.0\n"
     ]
    }
   ],
   "source": [
    "print(dftest)\n",
    "print()\n",
    "print(dftest['year'] > 2014)\n",
    "print()\n",
    "print(dftest.loc[df['year'] > 2014, :])"
   ]
  },
  {
   "cell_type": "code",
   "execution_count": 27,
   "id": "6e56ebd3",
   "metadata": {},
   "outputs": [
    {
     "name": "stdout",
     "output_type": "stream",
     "text": [
      "Info  name    year  trial  points  zeros    debt\n",
      "Num                                             \n",
      "0      lew  2012.0    NaN     0.5    0.0  1300.0\n",
      "1      lee  2015.0  700.0     0.5    1.0   900.0\n",
      "2     Park  2018.0    NaN     0.5    2.0   200.0\n",
      "7      Jun     4.0    0.1  2013.0    2.3   100.0\n",
      "\n"
     ]
    },
    {
     "data": {
      "text/html": [
       "<div>\n",
       "<style scoped>\n",
       "    .dataframe tbody tr th:only-of-type {\n",
       "        vertical-align: middle;\n",
       "    }\n",
       "\n",
       "    .dataframe tbody tr th {\n",
       "        vertical-align: top;\n",
       "    }\n",
       "\n",
       "    .dataframe thead th {\n",
       "        text-align: right;\n",
       "    }\n",
       "</style>\n",
       "<table border=\"1\" class=\"dataframe\">\n",
       "  <thead>\n",
       "    <tr style=\"text-align: right;\">\n",
       "      <th>Info</th>\n",
       "      <th>name</th>\n",
       "      <th>year</th>\n",
       "      <th>trial</th>\n",
       "      <th>points</th>\n",
       "      <th>zeros</th>\n",
       "      <th>debt</th>\n",
       "    </tr>\n",
       "    <tr>\n",
       "      <th>Num</th>\n",
       "      <th></th>\n",
       "      <th></th>\n",
       "      <th></th>\n",
       "      <th></th>\n",
       "      <th></th>\n",
       "      <th></th>\n",
       "    </tr>\n",
       "  </thead>\n",
       "  <tbody>\n",
       "    <tr>\n",
       "      <th>1</th>\n",
       "      <td>lee</td>\n",
       "      <td>2015.0</td>\n",
       "      <td>700.0</td>\n",
       "      <td>0.5</td>\n",
       "      <td>1.0</td>\n",
       "      <td>900.0</td>\n",
       "    </tr>\n",
       "    <tr>\n",
       "      <th>7</th>\n",
       "      <td>Jun</td>\n",
       "      <td>4.0</td>\n",
       "      <td>0.1</td>\n",
       "      <td>2013.0</td>\n",
       "      <td>2.3</td>\n",
       "      <td>100.0</td>\n",
       "    </tr>\n",
       "  </tbody>\n",
       "</table>\n",
       "</div>"
      ],
      "text/plain": [
       "Info name    year  trial  points  zeros   debt\n",
       "Num                                           \n",
       "1     lee  2015.0  700.0     0.5    1.0  900.0\n",
       "7     Jun     4.0    0.1  2013.0    2.3  100.0"
      ]
     },
     "execution_count": 27,
     "metadata": {},
     "output_type": "execute_result"
    }
   ],
   "source": [
    "dftest.iloc[0, 2] = np.nan\n",
    "dftest.iloc[2, 2] = np.nan\n",
    "print(dftest)\n",
    "dftest = dftest.dropna(how='any') # 행 값 중 하나라도 nan이면 해당 행 삭제 후 다시 대입\n",
    "print()\n",
    "dftest\n",
    "# dftest.drapna(how='all') # 행의 모든 값이 nan이면 해당 행 삭제"
   ]
  },
  {
   "cell_type": "code",
   "execution_count": 28,
   "id": "33ee12be",
   "metadata": {},
   "outputs": [
    {
     "data": {
      "text/html": [
       "<div>\n",
       "<style scoped>\n",
       "    .dataframe tbody tr th:only-of-type {\n",
       "        vertical-align: middle;\n",
       "    }\n",
       "\n",
       "    .dataframe tbody tr th {\n",
       "        vertical-align: top;\n",
       "    }\n",
       "\n",
       "    .dataframe thead th {\n",
       "        text-align: right;\n",
       "    }\n",
       "</style>\n",
       "<table border=\"1\" class=\"dataframe\">\n",
       "  <thead>\n",
       "    <tr style=\"text-align: right;\">\n",
       "      <th>Info</th>\n",
       "      <th>name</th>\n",
       "      <th>year</th>\n",
       "      <th>trial</th>\n",
       "      <th>points</th>\n",
       "      <th>zeros</th>\n",
       "      <th>debt</th>\n",
       "    </tr>\n",
       "    <tr>\n",
       "      <th>Num</th>\n",
       "      <th></th>\n",
       "      <th></th>\n",
       "      <th></th>\n",
       "      <th></th>\n",
       "      <th></th>\n",
       "      <th></th>\n",
       "    </tr>\n",
       "  </thead>\n",
       "  <tbody>\n",
       "    <tr>\n",
       "      <th>0</th>\n",
       "      <td>lew</td>\n",
       "      <td>2012.0</td>\n",
       "      <td>NaN</td>\n",
       "      <td>0.5</td>\n",
       "      <td>0.0</td>\n",
       "      <td>1300.0</td>\n",
       "    </tr>\n",
       "    <tr>\n",
       "      <th>1</th>\n",
       "      <td>lee</td>\n",
       "      <td>2015.0</td>\n",
       "      <td>700.0</td>\n",
       "      <td>0.5</td>\n",
       "      <td>1.0</td>\n",
       "      <td>900.0</td>\n",
       "    </tr>\n",
       "    <tr>\n",
       "      <th>2</th>\n",
       "      <td>Park</td>\n",
       "      <td>2018.0</td>\n",
       "      <td>NaN</td>\n",
       "      <td>0.5</td>\n",
       "      <td>2.0</td>\n",
       "      <td>200.0</td>\n",
       "    </tr>\n",
       "    <tr>\n",
       "      <th>7</th>\n",
       "      <td>Jun</td>\n",
       "      <td>4.0</td>\n",
       "      <td>0.1</td>\n",
       "      <td>2013.0</td>\n",
       "      <td>2.3</td>\n",
       "      <td>100.0</td>\n",
       "    </tr>\n",
       "  </tbody>\n",
       "</table>\n",
       "</div>"
      ],
      "text/plain": [
       "Info  name    year  trial  points  zeros    debt\n",
       "Num                                             \n",
       "0      lew  2012.0    NaN     0.5    0.0  1300.0\n",
       "1      lee  2015.0  700.0     0.5    1.0   900.0\n",
       "2     Park  2018.0    NaN     0.5    2.0   200.0\n",
       "7      Jun     4.0    0.1  2013.0    2.3   100.0"
      ]
     },
     "execution_count": 28,
     "metadata": {},
     "output_type": "execute_result"
    }
   ],
   "source": [
    "dftest = df\n",
    "dftest.iloc[0, 2] = np.nan\n",
    "dftest.iloc[2, 2] = np.nan\n",
    "dftest"
   ]
  },
  {
   "cell_type": "code",
   "execution_count": 29,
   "id": "6053f48e",
   "metadata": {},
   "outputs": [
    {
     "data": {
      "text/html": [
       "<div>\n",
       "<style scoped>\n",
       "    .dataframe tbody tr th:only-of-type {\n",
       "        vertical-align: middle;\n",
       "    }\n",
       "\n",
       "    .dataframe tbody tr th {\n",
       "        vertical-align: top;\n",
       "    }\n",
       "\n",
       "    .dataframe thead th {\n",
       "        text-align: right;\n",
       "    }\n",
       "</style>\n",
       "<table border=\"1\" class=\"dataframe\">\n",
       "  <thead>\n",
       "    <tr style=\"text-align: right;\">\n",
       "      <th>Info</th>\n",
       "      <th>name</th>\n",
       "      <th>year</th>\n",
       "      <th>trial</th>\n",
       "      <th>points</th>\n",
       "      <th>zeros</th>\n",
       "      <th>debt</th>\n",
       "    </tr>\n",
       "    <tr>\n",
       "      <th>Num</th>\n",
       "      <th></th>\n",
       "      <th></th>\n",
       "      <th></th>\n",
       "      <th></th>\n",
       "      <th></th>\n",
       "      <th></th>\n",
       "    </tr>\n",
       "  </thead>\n",
       "  <tbody>\n",
       "    <tr>\n",
       "      <th>0</th>\n",
       "      <td>lew</td>\n",
       "      <td>2012.0</td>\n",
       "      <td>0.77777</td>\n",
       "      <td>0.5</td>\n",
       "      <td>0.0</td>\n",
       "      <td>1300.0</td>\n",
       "    </tr>\n",
       "    <tr>\n",
       "      <th>1</th>\n",
       "      <td>lee</td>\n",
       "      <td>2015.0</td>\n",
       "      <td>700.00000</td>\n",
       "      <td>0.5</td>\n",
       "      <td>1.0</td>\n",
       "      <td>900.0</td>\n",
       "    </tr>\n",
       "    <tr>\n",
       "      <th>2</th>\n",
       "      <td>Park</td>\n",
       "      <td>2018.0</td>\n",
       "      <td>0.77777</td>\n",
       "      <td>0.5</td>\n",
       "      <td>2.0</td>\n",
       "      <td>200.0</td>\n",
       "    </tr>\n",
       "    <tr>\n",
       "      <th>7</th>\n",
       "      <td>Jun</td>\n",
       "      <td>4.0</td>\n",
       "      <td>0.10000</td>\n",
       "      <td>2013.0</td>\n",
       "      <td>2.3</td>\n",
       "      <td>100.0</td>\n",
       "    </tr>\n",
       "  </tbody>\n",
       "</table>\n",
       "</div>"
      ],
      "text/plain": [
       "Info  name    year      trial  points  zeros    debt\n",
       "Num                                                 \n",
       "0      lew  2012.0    0.77777     0.5    0.0  1300.0\n",
       "1      lee  2015.0  700.00000     0.5    1.0   900.0\n",
       "2     Park  2018.0    0.77777     0.5    2.0   200.0\n",
       "7      Jun     4.0    0.10000  2013.0    2.3   100.0"
      ]
     },
     "execution_count": 29,
     "metadata": {},
     "output_type": "execute_result"
    }
   ],
   "source": [
    "dftest = dftest.fillna(value=0.77777) # nan 값에 지정값 넣기\n",
    "dftest"
   ]
  },
  {
   "cell_type": "code",
   "execution_count": 30,
   "id": "63620d7e",
   "metadata": {},
   "outputs": [
    {
     "data": {
      "text/html": [
       "<div>\n",
       "<style scoped>\n",
       "    .dataframe tbody tr th:only-of-type {\n",
       "        vertical-align: middle;\n",
       "    }\n",
       "\n",
       "    .dataframe tbody tr th {\n",
       "        vertical-align: top;\n",
       "    }\n",
       "\n",
       "    .dataframe thead th {\n",
       "        text-align: right;\n",
       "    }\n",
       "</style>\n",
       "<table border=\"1\" class=\"dataframe\">\n",
       "  <thead>\n",
       "    <tr style=\"text-align: right;\">\n",
       "      <th>Info</th>\n",
       "      <th>name</th>\n",
       "      <th>year</th>\n",
       "      <th>trial</th>\n",
       "      <th>points</th>\n",
       "      <th>zeros</th>\n",
       "      <th>debt</th>\n",
       "    </tr>\n",
       "    <tr>\n",
       "      <th>Num</th>\n",
       "      <th></th>\n",
       "      <th></th>\n",
       "      <th></th>\n",
       "      <th></th>\n",
       "      <th></th>\n",
       "      <th></th>\n",
       "    </tr>\n",
       "  </thead>\n",
       "  <tbody>\n",
       "    <tr>\n",
       "      <th>0</th>\n",
       "      <td>False</td>\n",
       "      <td>False</td>\n",
       "      <td>True</td>\n",
       "      <td>False</td>\n",
       "      <td>False</td>\n",
       "      <td>False</td>\n",
       "    </tr>\n",
       "    <tr>\n",
       "      <th>1</th>\n",
       "      <td>False</td>\n",
       "      <td>False</td>\n",
       "      <td>False</td>\n",
       "      <td>False</td>\n",
       "      <td>False</td>\n",
       "      <td>False</td>\n",
       "    </tr>\n",
       "    <tr>\n",
       "      <th>2</th>\n",
       "      <td>False</td>\n",
       "      <td>False</td>\n",
       "      <td>True</td>\n",
       "      <td>False</td>\n",
       "      <td>False</td>\n",
       "      <td>False</td>\n",
       "    </tr>\n",
       "    <tr>\n",
       "      <th>7</th>\n",
       "      <td>False</td>\n",
       "      <td>False</td>\n",
       "      <td>False</td>\n",
       "      <td>False</td>\n",
       "      <td>False</td>\n",
       "      <td>False</td>\n",
       "    </tr>\n",
       "  </tbody>\n",
       "</table>\n",
       "</div>"
      ],
      "text/plain": [
       "Info   name   year  trial  points  zeros   debt\n",
       "Num                                            \n",
       "0     False  False   True   False  False  False\n",
       "1     False  False  False   False  False  False\n",
       "2     False  False   True   False  False  False\n",
       "7     False  False  False   False  False  False"
      ]
     },
     "execution_count": 30,
     "metadata": {},
     "output_type": "execute_result"
    }
   ],
   "source": [
    "dftest = df\n",
    "dftest.iloc[0, 2] = np.nan\n",
    "dftest.iloc[2, 2] = np.nan\n",
    "dftest.isnull() # nan 여부 확인"
   ]
  },
  {
   "cell_type": "code",
   "execution_count": 31,
   "id": "0c996954",
   "metadata": {},
   "outputs": [
    {
     "data": {
      "text/html": [
       "<div>\n",
       "<style scoped>\n",
       "    .dataframe tbody tr th:only-of-type {\n",
       "        vertical-align: middle;\n",
       "    }\n",
       "\n",
       "    .dataframe tbody tr th {\n",
       "        vertical-align: top;\n",
       "    }\n",
       "\n",
       "    .dataframe thead th {\n",
       "        text-align: right;\n",
       "    }\n",
       "</style>\n",
       "<table border=\"1\" class=\"dataframe\">\n",
       "  <thead>\n",
       "    <tr style=\"text-align: right;\">\n",
       "      <th></th>\n",
       "      <th>one</th>\n",
       "      <th>two</th>\n",
       "    </tr>\n",
       "  </thead>\n",
       "  <tbody>\n",
       "    <tr>\n",
       "      <th>a</th>\n",
       "      <td>1.40</td>\n",
       "      <td>NaN</td>\n",
       "    </tr>\n",
       "    <tr>\n",
       "      <th>b</th>\n",
       "      <td>7.10</td>\n",
       "      <td>-4.5</td>\n",
       "    </tr>\n",
       "    <tr>\n",
       "      <th>c</th>\n",
       "      <td>NaN</td>\n",
       "      <td>NaN</td>\n",
       "    </tr>\n",
       "    <tr>\n",
       "      <th>d</th>\n",
       "      <td>0.75</td>\n",
       "      <td>-1.3</td>\n",
       "    </tr>\n",
       "  </tbody>\n",
       "</table>\n",
       "</div>"
      ],
      "text/plain": [
       "    one  two\n",
       "a  1.40  NaN\n",
       "b  7.10 -4.5\n",
       "c   NaN  NaN\n",
       "d  0.75 -1.3"
      ]
     },
     "execution_count": 31,
     "metadata": {},
     "output_type": "execute_result"
    }
   ],
   "source": [
    "ysdata = [[1.4, np.nan], [7.1, -4.5], [np.nan, np.nan], [0.75, -1.3]]\n",
    "dftest = pd.DataFrame(ysdata, columns=[\"one\", \"two\"], index=[\"a\", \"b\", \"c\", \"d\"])\n",
    "dftest"
   ]
  },
  {
   "cell_type": "code",
   "execution_count": 32,
   "id": "519e1835",
   "metadata": {},
   "outputs": [
    {
     "data": {
      "text/plain": [
       "one    9.25\n",
       "two   -5.80\n",
       "dtype: float64"
      ]
     },
     "execution_count": 32,
     "metadata": {},
     "output_type": "execute_result"
    }
   ],
   "source": [
    "dftest.sum(axis=0)"
   ]
  },
  {
   "cell_type": "code",
   "execution_count": 33,
   "id": "f70c4b6a",
   "metadata": {},
   "outputs": [
    {
     "data": {
      "text/plain": [
       "a    1.40\n",
       "b    2.60\n",
       "c    0.00\n",
       "d   -0.55\n",
       "dtype: float64"
      ]
     },
     "execution_count": 33,
     "metadata": {},
     "output_type": "execute_result"
    }
   ],
   "source": [
    "dftest.sum(axis=1)"
   ]
  },
  {
   "cell_type": "code",
   "execution_count": 34,
   "id": "0c1a43d7",
   "metadata": {},
   "outputs": [
    {
     "data": {
      "text/plain": [
       "np.float64(9.25)"
      ]
     },
     "execution_count": 34,
     "metadata": {},
     "output_type": "execute_result"
    }
   ],
   "source": [
    "dftest['one'].sum()"
   ]
  },
  {
   "cell_type": "code",
   "execution_count": 35,
   "id": "7d95fdba",
   "metadata": {},
   "outputs": [
    {
     "data": {
      "text/html": [
       "<div>\n",
       "<style scoped>\n",
       "    .dataframe tbody tr th:only-of-type {\n",
       "        vertical-align: middle;\n",
       "    }\n",
       "\n",
       "    .dataframe tbody tr th {\n",
       "        vertical-align: top;\n",
       "    }\n",
       "\n",
       "    .dataframe thead th {\n",
       "        text-align: right;\n",
       "    }\n",
       "</style>\n",
       "<table border=\"1\" class=\"dataframe\">\n",
       "  <thead>\n",
       "    <tr style=\"text-align: right;\">\n",
       "      <th></th>\n",
       "      <th>A</th>\n",
       "      <th>B</th>\n",
       "      <th>C</th>\n",
       "      <th>D</th>\n",
       "    </tr>\n",
       "  </thead>\n",
       "  <tbody>\n",
       "    <tr>\n",
       "      <th>2016-07-01</th>\n",
       "      <td>-0.174600</td>\n",
       "      <td>0.433026</td>\n",
       "      <td>1.203037</td>\n",
       "      <td>-0.965066</td>\n",
       "    </tr>\n",
       "    <tr>\n",
       "      <th>2016-07-02</th>\n",
       "      <td>1.028274</td>\n",
       "      <td>0.228630</td>\n",
       "      <td>0.445138</td>\n",
       "      <td>-1.136602</td>\n",
       "    </tr>\n",
       "    <tr>\n",
       "      <th>2016-07-03</th>\n",
       "      <td>0.135137</td>\n",
       "      <td>1.484537</td>\n",
       "      <td>-1.079805</td>\n",
       "      <td>-1.977728</td>\n",
       "    </tr>\n",
       "  </tbody>\n",
       "</table>\n",
       "</div>"
      ],
      "text/plain": [
       "                   A         B         C         D\n",
       "2016-07-01 -0.174600  0.433026  1.203037 -0.965066\n",
       "2016-07-02  1.028274  0.228630  0.445138 -1.136602\n",
       "2016-07-03  0.135137  1.484537 -1.079805 -1.977728"
      ]
     },
     "execution_count": 35,
     "metadata": {},
     "output_type": "execute_result"
    }
   ],
   "source": [
    "dftest2 = pd.DataFrame(\n",
    "    np.random.randn(3, 4), \n",
    "    columns=[\"A\", \"B\", \"C\", \"D\"],\n",
    "    index=pd.date_range(\"20160701\", periods=3))\n",
    "dftest2"
   ]
  },
  {
   "cell_type": "code",
   "execution_count": 36,
   "id": "52b7a6cd",
   "metadata": {},
   "outputs": [
    {
     "data": {
      "text/html": [
       "<div>\n",
       "<style scoped>\n",
       "    .dataframe tbody tr th:only-of-type {\n",
       "        vertical-align: middle;\n",
       "    }\n",
       "\n",
       "    .dataframe tbody tr th {\n",
       "        vertical-align: top;\n",
       "    }\n",
       "\n",
       "    .dataframe thead th {\n",
       "        text-align: right;\n",
       "    }\n",
       "</style>\n",
       "<table border=\"1\" class=\"dataframe\">\n",
       "  <thead>\n",
       "    <tr style=\"text-align: right;\">\n",
       "      <th></th>\n",
       "      <th>A</th>\n",
       "      <th>B</th>\n",
       "      <th>C</th>\n",
       "      <th>D</th>\n",
       "    </tr>\n",
       "  </thead>\n",
       "  <tbody>\n",
       "    <tr>\n",
       "      <th>2016-07-03</th>\n",
       "      <td>0.135137</td>\n",
       "      <td>1.484537</td>\n",
       "      <td>-1.079805</td>\n",
       "      <td>-1.977728</td>\n",
       "    </tr>\n",
       "    <tr>\n",
       "      <th>2016-07-02</th>\n",
       "      <td>1.028274</td>\n",
       "      <td>0.228630</td>\n",
       "      <td>0.445138</td>\n",
       "      <td>-1.136602</td>\n",
       "    </tr>\n",
       "    <tr>\n",
       "      <th>2016-07-01</th>\n",
       "      <td>-0.174600</td>\n",
       "      <td>0.433026</td>\n",
       "      <td>1.203037</td>\n",
       "      <td>-0.965066</td>\n",
       "    </tr>\n",
       "  </tbody>\n",
       "</table>\n",
       "</div>"
      ],
      "text/plain": [
       "                   A         B         C         D\n",
       "2016-07-03  0.135137  1.484537 -1.079805 -1.977728\n",
       "2016-07-02  1.028274  0.228630  0.445138 -1.136602\n",
       "2016-07-01 -0.174600  0.433026  1.203037 -0.965066"
      ]
     },
     "execution_count": 36,
     "metadata": {},
     "output_type": "execute_result"
    }
   ],
   "source": [
    "dftest2.sort_index(axis=0, ascending=False) # 행방향 내림차순 정렬"
   ]
  },
  {
   "cell_type": "code",
   "execution_count": 37,
   "id": "eed60b8b",
   "metadata": {},
   "outputs": [
    {
     "data": {
      "text/html": [
       "<div>\n",
       "<style scoped>\n",
       "    .dataframe tbody tr th:only-of-type {\n",
       "        vertical-align: middle;\n",
       "    }\n",
       "\n",
       "    .dataframe tbody tr th {\n",
       "        vertical-align: top;\n",
       "    }\n",
       "\n",
       "    .dataframe thead th {\n",
       "        text-align: right;\n",
       "    }\n",
       "</style>\n",
       "<table border=\"1\" class=\"dataframe\">\n",
       "  <thead>\n",
       "    <tr style=\"text-align: right;\">\n",
       "      <th></th>\n",
       "      <th>D</th>\n",
       "      <th>C</th>\n",
       "      <th>B</th>\n",
       "      <th>A</th>\n",
       "    </tr>\n",
       "  </thead>\n",
       "  <tbody>\n",
       "    <tr>\n",
       "      <th>2016-07-01</th>\n",
       "      <td>-0.965066</td>\n",
       "      <td>1.203037</td>\n",
       "      <td>0.433026</td>\n",
       "      <td>-0.174600</td>\n",
       "    </tr>\n",
       "    <tr>\n",
       "      <th>2016-07-02</th>\n",
       "      <td>-1.136602</td>\n",
       "      <td>0.445138</td>\n",
       "      <td>0.228630</td>\n",
       "      <td>1.028274</td>\n",
       "    </tr>\n",
       "    <tr>\n",
       "      <th>2016-07-03</th>\n",
       "      <td>-1.977728</td>\n",
       "      <td>-1.079805</td>\n",
       "      <td>1.484537</td>\n",
       "      <td>0.135137</td>\n",
       "    </tr>\n",
       "  </tbody>\n",
       "</table>\n",
       "</div>"
      ],
      "text/plain": [
       "                   D         C         B         A\n",
       "2016-07-01 -0.965066  1.203037  0.433026 -0.174600\n",
       "2016-07-02 -1.136602  0.445138  0.228630  1.028274\n",
       "2016-07-03 -1.977728 -1.079805  1.484537  0.135137"
      ]
     },
     "execution_count": 37,
     "metadata": {},
     "output_type": "execute_result"
    }
   ],
   "source": [
    "dftest2.sort_index(axis=1, ascending=False) # 열방향 내림차순 정렬"
   ]
  }
 ],
 "metadata": {
  "kernelspec": {
   "display_name": "Python 3",
   "language": "python",
   "name": "python3"
  },
  "language_info": {
   "codemirror_mode": {
    "name": "ipython",
    "version": 3
   },
   "file_extension": ".py",
   "mimetype": "text/x-python",
   "name": "python",
   "nbconvert_exporter": "python",
   "pygments_lexer": "ipython3",
   "version": "3.13.7"
  }
 },
 "nbformat": 4,
 "nbformat_minor": 5
}
