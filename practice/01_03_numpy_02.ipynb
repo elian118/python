{
 "cells": [
  {
   "cell_type": "code",
   "execution_count": 2,
   "id": "b227913c",
   "metadata": {},
   "outputs": [],
   "source": [
    "from IPython.core.interactiveshell import InteractiveShell\n",
    "InteractiveShell.ast_node_interactivity = \"all\""
   ]
  },
  {
   "cell_type": "code",
   "execution_count": 4,
   "id": "4ef4dce7",
   "metadata": {},
   "outputs": [
    {
     "name": "stdout",
     "output_type": "stream",
     "text": [
      "ysArray:\n",
      "[1, 2, 3, 4, 5, 6, 7]\n"
     ]
    }
   ],
   "source": [
    "import numpy as np\n",
    "\n",
    "ysArray = [1, 2, 3, 4, 5, 6, 7]\n",
    "print(\"ysArray:\\n{}\".format(ysArray))"
   ]
  },
  {
   "cell_type": "code",
   "execution_count": 5,
   "id": "af547e85",
   "metadata": {},
   "outputs": [
    {
     "data": {
      "text/plain": [
       "[1, 2, 3, 4, 5, 6, 7]"
      ]
     },
     "execution_count": 5,
     "metadata": {},
     "output_type": "execute_result"
    }
   ],
   "source": [
    "ysArray"
   ]
  },
  {
   "cell_type": "code",
   "execution_count": 10,
   "id": "1f73412a",
   "metadata": {},
   "outputs": [
    {
     "name": "stdout",
     "output_type": "stream",
     "text": [
      "[1 2 3 4 5 6 7]\n"
     ]
    },
    {
     "data": {
      "text/plain": [
       "array([1, 2, 3, 4, 5, 6, 7])"
      ]
     },
     "execution_count": 10,
     "metadata": {},
     "output_type": "execute_result"
    },
    {
     "data": {
      "text/plain": [
       "(7,)"
      ]
     },
     "execution_count": 10,
     "metadata": {},
     "output_type": "execute_result"
    }
   ],
   "source": [
    "arr1 = np.array(ysArray)\n",
    "print(arr1)\n",
    "arr1\n",
    "arr1.shape # arr1의 형태(크기: 열과 행) 확인"
   ]
  },
  {
   "cell_type": "code",
   "execution_count": 13,
   "id": "cb427f4f",
   "metadata": {},
   "outputs": [
    {
     "data": {
      "text/plain": [
       "array([1, 2, 3, 4])"
      ]
     },
     "execution_count": 13,
     "metadata": {},
     "output_type": "execute_result"
    },
    {
     "data": {
      "text/plain": [
       "(4,)"
      ]
     },
     "execution_count": 13,
     "metadata": {},
     "output_type": "execute_result"
    },
    {
     "data": {
      "text/plain": [
       "dtype('int64')"
      ]
     },
     "execution_count": 13,
     "metadata": {},
     "output_type": "execute_result"
    }
   ],
   "source": [
    "arr2 = np.array([1, 2, 3, 4])\n",
    "arr2\n",
    "arr2.shape\n",
    "arr2.dtype # arr2의 data type 확인"
   ]
  },
  {
   "cell_type": "code",
   "execution_count": 14,
   "id": "c969deef",
   "metadata": {},
   "outputs": [
    {
     "data": {
      "text/plain": [
       "[1, 2, 3.14, 4]"
      ]
     },
     "execution_count": 14,
     "metadata": {},
     "output_type": "execute_result"
    }
   ],
   "source": [
    "data2 = [1, 2, 3.14, 4]\n",
    "data2"
   ]
  },
  {
   "cell_type": "code",
   "execution_count": 15,
   "id": "be1cba89",
   "metadata": {},
   "outputs": [
    {
     "data": {
      "text/plain": [
       "array([1.  , 2.  , 3.14, 4.  ])"
      ]
     },
     "execution_count": 15,
     "metadata": {},
     "output_type": "execute_result"
    },
    {
     "data": {
      "text/plain": [
       "dtype('float64')"
      ]
     },
     "execution_count": 15,
     "metadata": {},
     "output_type": "execute_result"
    }
   ],
   "source": [
    "arr3 = np.array(data2)\n",
    "arr3\n",
    "arr3.dtype"
   ]
  },
  {
   "cell_type": "code",
   "execution_count": 16,
   "id": "77a5ccc6",
   "metadata": {},
   "outputs": [
    {
     "data": {
      "text/plain": [
       "array([0., 0., 0., 0.])"
      ]
     },
     "execution_count": 16,
     "metadata": {},
     "output_type": "execute_result"
    }
   ],
   "source": [
    "np.zeros(4)"
   ]
  },
  {
   "cell_type": "code",
   "execution_count": 17,
   "id": "b6bbb390",
   "metadata": {},
   "outputs": [
    {
     "data": {
      "text/plain": [
       "array([[0., 0., 0.],\n",
       "       [0., 0., 0.]])"
      ]
     },
     "execution_count": 17,
     "metadata": {},
     "output_type": "execute_result"
    }
   ],
   "source": [
    "np.zeros((2, 3))"
   ]
  },
  {
   "cell_type": "code",
   "execution_count": 18,
   "id": "0748545b",
   "metadata": {},
   "outputs": [
    {
     "data": {
      "text/plain": [
       "array([1., 1., 1., 1., 1., 1., 1., 1., 1.])"
      ]
     },
     "execution_count": 18,
     "metadata": {},
     "output_type": "execute_result"
    },
    {
     "data": {
      "text/plain": [
       "array([[1., 1.],\n",
       "       [1., 1.],\n",
       "       [1., 1.]])"
      ]
     },
     "execution_count": 18,
     "metadata": {},
     "output_type": "execute_result"
    }
   ],
   "source": [
    "np.ones(9)      # 1로 원소를 채운 길이 9짜리 배열 생성\n",
    "np.ones((3, 2)) # 1로 원소를 채운 3x2 행렬 생성"
   ]
  },
  {
   "cell_type": "code",
   "execution_count": 19,
   "id": "ecf2afe4",
   "metadata": {},
   "outputs": [
    {
     "data": {
      "text/plain": [
       "array([0, 1, 2])"
      ]
     },
     "execution_count": 19,
     "metadata": {},
     "output_type": "execute_result"
    },
    {
     "data": {
      "text/plain": [
       "array([4, 5, 6, 7, 8])"
      ]
     },
     "execution_count": 19,
     "metadata": {},
     "output_type": "execute_result"
    }
   ],
   "source": [
    "# arange: 1씩 증가하는 list 생성\n",
    "np.arange(3)\n",
    "np.arange(4, 9)"
   ]
  },
  {
   "cell_type": "code",
   "execution_count": 23,
   "id": "d8bfdad9",
   "metadata": {},
   "outputs": [
    {
     "data": {
      "text/plain": [
       "array([[9, 8, 7],\n",
       "       [6, 5, 4]])"
      ]
     },
     "execution_count": 23,
     "metadata": {},
     "output_type": "execute_result"
    },
    {
     "data": {
      "text/plain": [
       "array([[10, 20, 30],\n",
       "       [40, 50, 60]])"
      ]
     },
     "execution_count": 23,
     "metadata": {},
     "output_type": "execute_result"
    },
    {
     "data": {
      "text/plain": [
       "array([[19, 28, 37],\n",
       "       [46, 55, 64]])"
      ]
     },
     "execution_count": 23,
     "metadata": {},
     "output_type": "execute_result"
    },
    {
     "data": {
      "text/plain": [
       "array([[ -1, -12, -23],\n",
       "       [-34, -45, -56]])"
      ]
     },
     "execution_count": 23,
     "metadata": {},
     "output_type": "execute_result"
    },
    {
     "data": {
      "text/plain": [
       "array([[ 90, 160, 210],\n",
       "       [240, 250, 240]])"
      ]
     },
     "execution_count": 23,
     "metadata": {},
     "output_type": "execute_result"
    },
    {
     "data": {
      "text/plain": [
       "array([[0.9       , 0.4       , 0.23333333],\n",
       "       [0.15      , 0.1       , 0.06666667]])"
      ]
     },
     "execution_count": 23,
     "metadata": {},
     "output_type": "execute_result"
    }
   ],
   "source": [
    "arr1 = np.array([[9, 8, 7], [6, 5, 4]])\n",
    "arr2 = np.array([[10, 20, 30], [40, 50, 60]])\n",
    "arr1\n",
    "arr2\n",
    "arr1 + arr2\n",
    "arr1 - arr2\n",
    "arr1 * arr2\n",
    "arr1 / arr2"
   ]
  },
  {
   "cell_type": "code",
   "execution_count": null,
   "id": "28e4dfb9",
   "metadata": {},
   "outputs": [
    {
     "data": {
      "text/plain": [
       "array([[10, 20, 30],\n",
       "       [40, 50, 60]])"
      ]
     },
     "execution_count": 24,
     "metadata": {},
     "output_type": "execute_result"
    },
    {
     "data": {
      "text/plain": [
       "array([17, 17, 17])"
      ]
     },
     "execution_count": 24,
     "metadata": {},
     "output_type": "execute_result"
    },
    {
     "data": {
      "text/plain": [
       "array([[27, 37, 47],\n",
       "       [57, 67, 77]])"
      ]
     },
     "execution_count": 24,
     "metadata": {},
     "output_type": "execute_result"
    }
   ],
   "source": [
    "arr2\n",
    "arr3 = np.array([17, 17, 17])\n",
    "arr3\n",
    "# 크기가 다른 list 간의 연산 지원(브로드캐스티드)\n",
    "arr2 + arr3 # arr2 각 행렬 모든 원소에 arr3 원소를 더하게 됨"
   ]
  },
  {
   "cell_type": "code",
   "execution_count": null,
   "id": "c6d97d24",
   "metadata": {},
   "outputs": [
    {
     "data": {
      "text/plain": [
       "array([[100, 200, 300],\n",
       "       [400, 500, 600]])"
      ]
     },
     "execution_count": 25,
     "metadata": {},
     "output_type": "execute_result"
    },
    {
     "data": {
      "text/plain": [
       "array([[ 100,  400,  900],\n",
       "       [1600, 2500, 3600]])"
      ]
     },
     "execution_count": 25,
     "metadata": {},
     "output_type": "execute_result"
    }
   ],
   "source": [
    "# 스칼라 곱이나 제곱도 연산 가능\n",
    "arr2 * 10\n",
    "arr2 ** 2"
   ]
  },
  {
   "cell_type": "code",
   "execution_count": 34,
   "id": "69c34136",
   "metadata": {},
   "outputs": [
    {
     "data": {
      "text/plain": [
       "array([0, 1, 2, 3, 4, 5, 6, 7, 8, 9])"
      ]
     },
     "execution_count": 34,
     "metadata": {},
     "output_type": "execute_result"
    },
    {
     "data": {
      "text/plain": [
       "np.int64(0)"
      ]
     },
     "execution_count": 34,
     "metadata": {},
     "output_type": "execute_result"
    },
    {
     "data": {
      "text/plain": [
       "np.int64(4)"
      ]
     },
     "execution_count": 34,
     "metadata": {},
     "output_type": "execute_result"
    },
    {
     "data": {
      "text/plain": [
       "np.int64(9)"
      ]
     },
     "execution_count": 34,
     "metadata": {},
     "output_type": "execute_result"
    },
    {
     "data": {
      "text/plain": [
       "array([1, 2, 3, 4, 5, 6, 7, 8])"
      ]
     },
     "execution_count": 34,
     "metadata": {},
     "output_type": "execute_result"
    },
    {
     "data": {
      "text/plain": [
       "array([0, 1, 2, 3, 4, 5, 6, 7, 8, 9])"
      ]
     },
     "execution_count": 34,
     "metadata": {},
     "output_type": "execute_result"
    }
   ],
   "source": [
    "ysArray = np.arange(10)\n",
    "ysArray\n",
    "ysArray[0]\n",
    "ysArray[4]\n",
    "ysArray[9]\n",
    "ysArray[1:9]\n",
    "ysArray[:]"
   ]
  },
  {
   "cell_type": "code",
   "execution_count": 32,
   "id": "7c7020d2",
   "metadata": {},
   "outputs": [
    {
     "data": {
      "text/plain": [
       "array([[10, 20, 30],\n",
       "       [40, 50, 60]])"
      ]
     },
     "execution_count": 32,
     "metadata": {},
     "output_type": "execute_result"
    },
    {
     "data": {
      "text/plain": [
       "array([40, 50, 60])"
      ]
     },
     "execution_count": 32,
     "metadata": {},
     "output_type": "execute_result"
    },
    {
     "data": {
      "text/plain": [
       "np.int64(60)"
      ]
     },
     "execution_count": 32,
     "metadata": {},
     "output_type": "execute_result"
    }
   ],
   "source": [
    "arr2\n",
    "arr2[1, :]\n",
    "arr2[1, 2]"
   ]
  },
  {
   "cell_type": "code",
   "execution_count": 49,
   "id": "9e1f01d8",
   "metadata": {},
   "outputs": [
    {
     "data": {
      "text/plain": [
       "array([[ 1.0916097 ,  1.31866679],\n",
       "       [ 1.18956283,  2.17445324],\n",
       "       [ 0.0258411 , -0.02175138]])"
      ]
     },
     "execution_count": 49,
     "metadata": {},
     "output_type": "execute_result"
    },
    {
     "data": {
      "text/plain": [
       "array([], shape=(0, 2), dtype=float64)"
      ]
     },
     "execution_count": 49,
     "metadata": {},
     "output_type": "execute_result"
    }
   ],
   "source": [
    "ysArray = np.random.randn(3, 2) # 랜덤 값 생성\n",
    "ysArray\n",
    "ysArray[ysArray[:, 0] < 0, :]   # 0번째 열의 값이 0보다 작은 모든 값\n",
    "# ysArray[ysArray[:, 1] < 0, :]   # 1번째 열의 값이 0보다 작은 모든 값\n",
    "\n"
   ]
  },
  {
   "cell_type": "code",
   "execution_count": null,
   "id": "cfe0ddc2",
   "metadata": {},
   "outputs": [
    {
     "data": {
      "text/plain": [
       "array([[1.0916097 , 1.31866679],\n",
       "       [1.18956283, 2.17445324],\n",
       "       [0.0258411 , 0.02175138]])"
      ]
     },
     "execution_count": 50,
     "metadata": {},
     "output_type": "execute_result"
    },
    {
     "name": "stderr",
     "output_type": "stream",
     "text": [
      "C:\\Users\\USER\\AppData\\Local\\Temp\\ipykernel_6588\\2324324445.py:3: RuntimeWarning: invalid value encountered in sqrt\n",
      "  np.sqrt(ysArray)    # 제곱근\n"
     ]
    },
    {
     "data": {
      "text/plain": [
       "array([[1.04480127, 1.14833218],\n",
       "       [1.09067082, 1.47460274],\n",
       "       [0.16075166,        nan]])"
      ]
     },
     "execution_count": 50,
     "metadata": {},
     "output_type": "execute_result"
    },
    {
     "data": {
      "text/plain": [
       "array([[1.19161173e+00, 1.73888211e+00],\n",
       "       [1.41505974e+00, 4.72824687e+00],\n",
       "       [6.67762228e-04, 4.73122598e-04]])"
      ]
     },
     "execution_count": 50,
     "metadata": {},
     "output_type": "execute_result"
    },
    {
     "data": {
      "text/plain": [
       "array([[2.97906561, 3.73843395],\n",
       "       [3.28564452, 8.79737372],\n",
       "       [1.02617787, 0.97848347]])"
      ]
     },
     "execution_count": 50,
     "metadata": {},
     "output_type": "execute_result"
    },
    {
     "name": "stderr",
     "output_type": "stream",
     "text": [
      "C:\\Users\\USER\\AppData\\Local\\Temp\\ipykernel_6588\\2324324445.py:6: RuntimeWarning: invalid value encountered in log\n",
      "  np.log(ysArray)     # 각 원소의 로그\n"
     ]
    },
    {
     "data": {
      "text/plain": [
       "array([[ 0.08765339,  0.27662122],\n",
       "       [ 0.17358587,  0.77677725],\n",
       "       [-3.6557892 ,         nan]])"
      ]
     },
     "execution_count": 50,
     "metadata": {},
     "output_type": "execute_result"
    },
    {
     "name": "stderr",
     "output_type": "stream",
     "text": [
      "C:\\Users\\USER\\AppData\\Local\\Temp\\ipykernel_6588\\2324324445.py:7: RuntimeWarning: invalid value encountered in log2\n",
      "  np.log2(ysArray)    # 각 원소의 로그2값\n"
     ]
    },
    {
     "data": {
      "text/plain": [
       "array([[ 0.12645712,  0.39908006],\n",
       "       [ 0.25043148,  1.12065268],\n",
       "       [-5.27418894,         nan]])"
      ]
     },
     "execution_count": 50,
     "metadata": {},
     "output_type": "execute_result"
    }
   ],
   "source": [
    "# invalid value로 인해 계산에 너무 오래 걸리면 RuntimeWarning 뜸\n",
    "# 계산 불가한 원소는 nan으로 표시된다\n",
    "np.abs(ysArray)     # 절대값\n",
    "np.sqrt(ysArray)    # 제곱근\n",
    "np.square(ysArray)  # 각 원소의 제곱\n",
    "np.exp(ysArray)     # 각 원소의 지수\n",
    "np.log(ysArray)     # 각 원소의 로그\n",
    "np.log2(ysArray)    # 각 원소의 밑이 2인 로그"
   ]
  },
  {
   "cell_type": "code",
   "execution_count": 66,
   "id": "83ea4ee9",
   "metadata": {},
   "outputs": [
    {
     "data": {
      "text/plain": [
       "array([0.        , 0.69314718, 1.09861229, 1.38629436, 1.60943791])"
      ]
     },
     "execution_count": 66,
     "metadata": {},
     "output_type": "execute_result"
    },
    {
     "data": {
      "text/plain": [
       "array([1., 2., 3., 4., 5.])"
      ]
     },
     "execution_count": 66,
     "metadata": {},
     "output_type": "execute_result"
    },
    {
     "data": {
      "text/plain": [
       "array([1., 2., 3., 4., 5.])"
      ]
     },
     "execution_count": 66,
     "metadata": {},
     "output_type": "execute_result"
    },
    {
     "data": {
      "text/plain": [
       "array([0., 1., 2., 3., 4.])"
      ]
     },
     "execution_count": 66,
     "metadata": {},
     "output_type": "execute_result"
    }
   ],
   "source": [
    "arr1 = np.array([1, 2, 3, 4, 5])\n",
    "arr2 = np.array([2, 4, 8, 16, 32])\n",
    "arr3 = np.array([3, 9, 27, 81, 243])\n",
    "arr10 = np.array([1, 10, 100, 1000, 10000])\n",
    "np.log(arr1)    # 자연 로그(자연 상수, 약 2.71828)\n",
    "np.log2(arr2)   # 밑이 2인 이진로그\n",
    "\n",
    "# 임의의 밑을 가진 로그 계산 → 수학 공식 참고\n",
    "# log_a B = log_c B / log_c A\n",
    "\n",
    "# 밑이 3인 로그 구하기\n",
    "log_base_3 = np.log(arr3) / np.log(3)\n",
    "log_base_3      # 및이 3인 로그\n",
    "\n",
    "# 밑이 10인 로그(상용로그) 구하기\n",
    "log_base_10  = np.log(arr10) / np.log(10)\n",
    "log_base_10"
   ]
  },
  {
   "cell_type": "code",
   "execution_count": null,
   "id": "9c255498",
   "metadata": {},
   "outputs": [
    {
     "data": {
      "text/plain": [
       "array([[ 1.0916097 ,  1.31866679],\n",
       "       [ 1.18956283,  2.17445324],\n",
       "       [ 0.0258411 , -0.02175138]])"
      ]
     },
     "execution_count": 52,
     "metadata": {},
     "output_type": "execute_result"
    },
    {
     "data": {
      "text/plain": [
       "array([2.30701363, 3.47136865])"
      ]
     },
     "execution_count": 52,
     "metadata": {},
     "output_type": "execute_result"
    },
    {
     "data": {
      "text/plain": [
       "array([2.41027649, 3.36401607, 0.00408971])"
      ]
     },
     "execution_count": 52,
     "metadata": {},
     "output_type": "execute_result"
    },
    {
     "data": {
      "text/plain": [
       "np.float64(0.7648519522426621)"
      ]
     },
     "execution_count": 52,
     "metadata": {},
     "output_type": "execute_result"
    }
   ],
   "source": [
    "ysArray\n",
    "np.sum(ysArray, axis = 0) # 0열의 합\n",
    "np.sum(ysArray, axis = 1) # 1열의 합"
   ]
  },
  {
   "cell_type": "code",
   "execution_count": null,
   "id": "0dcdd575",
   "metadata": {},
   "outputs": [
    {
     "data": {
      "text/plain": [
       "np.float64(0.7648519522426621)"
      ]
     },
     "execution_count": 55,
     "metadata": {},
     "output_type": "execute_result"
    },
    {
     "data": {
      "text/plain": [
       "np.float64(0.5849985088494115)"
      ]
     },
     "execution_count": 55,
     "metadata": {},
     "output_type": "execute_result"
    },
    {
     "data": {
      "text/plain": [
       "np.float64(-0.021751381527769766)"
      ]
     },
     "execution_count": 55,
     "metadata": {},
     "output_type": "execute_result"
    },
    {
     "data": {
      "text/plain": [
       "np.float64(2.1744532355434534)"
      ]
     },
     "execution_count": 55,
     "metadata": {},
     "output_type": "execute_result"
    },
    {
     "data": {
      "text/plain": [
       "array([[ 0.0258411 , -0.02175138],\n",
       "       [ 1.0916097 ,  1.31866679],\n",
       "       [ 1.18956283,  2.17445324]])"
      ]
     },
     "execution_count": 55,
     "metadata": {},
     "output_type": "execute_result"
    },
    {
     "data": {
      "text/plain": [
       "array([[ 1.0916097 ,  1.31866679],\n",
       "       [ 1.18956283,  2.17445324],\n",
       "       [-0.02175138,  0.0258411 ]])"
      ]
     },
     "execution_count": 55,
     "metadata": {},
     "output_type": "execute_result"
    }
   ],
   "source": [
    "np.std(ysArray) # 표준편차\n",
    "np.var(ysArray) # 분산\n",
    "np.min(ysArray) # 최소값\n",
    "np.max(ysArray) # 최대값"
   ]
  },
  {
   "cell_type": "code",
   "execution_count": null,
   "id": "3a2a78ac",
   "metadata": {},
   "outputs": [
    {
     "data": {
      "text/plain": [
       "array([[ 1.0916097 ,  1.31866679],\n",
       "       [ 1.18956283,  2.17445324],\n",
       "       [ 0.0258411 , -0.02175138]])"
      ]
     },
     "execution_count": 57,
     "metadata": {},
     "output_type": "execute_result"
    },
    {
     "data": {
      "text/plain": [
       "array([[ 0.0258411 , -0.02175138],\n",
       "       [ 1.0916097 ,  1.31866679],\n",
       "       [ 1.18956283,  2.17445324]])"
      ]
     },
     "execution_count": 57,
     "metadata": {},
     "output_type": "execute_result"
    },
    {
     "data": {
      "text/plain": [
       "array([[ 1.0916097 ,  1.31866679],\n",
       "       [ 1.18956283,  2.17445324],\n",
       "       [-0.02175138,  0.0258411 ]])"
      ]
     },
     "execution_count": 57,
     "metadata": {},
     "output_type": "execute_result"
    }
   ],
   "source": [
    "ysArray\n",
    "# 정렬\n",
    "np.sort(ysArray, axis = 0) # 열마다 세로방향 정렬\n",
    "np.sort(ysArray, axis = 1) # 행마다 가로방향 정렬"
   ]
  }
 ],
 "metadata": {
  "kernelspec": {
   "display_name": "Python 3",
   "language": "python",
   "name": "python3"
  },
  "language_info": {
   "codemirror_mode": {
    "name": "ipython",
    "version": 3
   },
   "file_extension": ".py",
   "mimetype": "text/x-python",
   "name": "python",
   "nbconvert_exporter": "python",
   "pygments_lexer": "ipython3",
   "version": "3.13.7"
  }
 },
 "nbformat": 4,
 "nbformat_minor": 5
}
